{
 "cells": [
  {
   "cell_type": "code",
   "execution_count": 6,
   "id": "4d81064e",
   "metadata": {},
   "outputs": [],
   "source": [
    "import yfinance as yf"
   ]
  },
  {
   "cell_type": "markdown",
   "id": "c3125fb5",
   "metadata": {},
   "source": [
    "# first_try"
   ]
  },
  {
   "cell_type": "code",
   "execution_count": 13,
   "id": "9a23591f",
   "metadata": {},
   "outputs": [],
   "source": [
    "?yfinance"
   ]
  },
  {
   "cell_type": "code",
   "execution_count": 5,
   "id": "d5881078",
   "metadata": {},
   "outputs": [
    {
     "data": {
      "text/plain": [
       "<module 'yfinance.base' from 'C:\\\\ProgramData\\\\Anaconda3\\\\lib\\\\site-packages\\\\yfinance\\\\base.py'>"
      ]
     },
     "execution_count": 5,
     "metadata": {},
     "output_type": "execute_result"
    }
   ],
   "source": [
    "yfinance.base"
   ]
  },
  {
   "cell_type": "code",
   "execution_count": 7,
   "id": "d77c2ac7",
   "metadata": {},
   "outputs": [],
   "source": [
    "msft = yf.Ticker(\"MSFT\")"
   ]
  },
  {
   "cell_type": "code",
   "execution_count": 9,
   "id": "ee8fe07e",
   "metadata": {},
   "outputs": [
    {
     "data": {
      "text/plain": [
       "{'zip': '98052-6399',\n",
       " 'sector': 'Technology',\n",
       " 'fullTimeEmployees': 181000,\n",
       " 'longBusinessSummary': 'Microsoft Corporation develops, licenses, and supports software, services, devices, and solutions worldwide. Its Productivity and Business Processes segment offers Office, Exchange, SharePoint, Microsoft Teams, Office 365 Security and Compliance, and Skype for Business, as well as related Client Access Licenses (CAL); Skype, Outlook.com, OneDrive, and LinkedIn; and Dynamics 365, a set of cloud-based and on-premises business solutions for organizations and enterprise divisions. Its Intelligent Cloud segment licenses SQL, Windows Servers, Visual Studio, System Center, and related CALs; GitHub that provides a collaboration platform and code hosting service for developers; and Azure, a cloud platform. It also offers support services and Microsoft consulting services to assist customers in developing, deploying, and managing Microsoft server and desktop solutions; and training and certification on Microsoft products. Its More Personal Computing segment provides Windows original equipment manufacturer (OEM) licensing and other non-volume licensing of the Windows operating system; Windows Commercial, such as volume licensing of the Windows operating system, Windows cloud services, and other Windows commercial offerings; patent licensing; Windows Internet of Things; and MSN advertising. It also offers Surface, PC accessories, PCs, tablets, gaming and entertainment consoles, and other devices; Gaming, including Xbox hardware, and Xbox content and services; video games and third-party video game royalties; and Search, including Bing and Microsoft advertising. It sells its products through OEMs, distributors, and resellers; and directly through digital marketplaces, online stores, and retail stores. It has collaborations with Dynatrace, Inc., Morgan Stanley, Micro Focus, WPP plc, ACI Worldwide, Inc., and iCIMS, Inc., as well as strategic relationships with Avaya Holdings Corp. and wejo Limited. Microsoft Corporation was founded in 1975 and is based in Redmond, Washington.',\n",
       " 'city': 'Redmond',\n",
       " 'phone': '425 882 8080',\n",
       " 'state': 'WA',\n",
       " 'country': 'United States',\n",
       " 'companyOfficers': [],\n",
       " 'website': 'https://www.microsoft.com',\n",
       " 'maxAge': 1,\n",
       " 'address1': 'One Microsoft Way',\n",
       " 'industry': 'Software—Infrastructure',\n",
       " 'ebitdaMargins': 0.49123,\n",
       " 'profitMargins': 0.38498002,\n",
       " 'grossMargins': 0.68825996,\n",
       " 'operatingCashflow': 83909001216,\n",
       " 'revenueGrowth': 0.201,\n",
       " 'operatingMargins': 0.42523998,\n",
       " 'ebitda': 90829996032,\n",
       " 'targetLowPrice': 306.55,\n",
       " 'recommendationKey': 'buy',\n",
       " 'grossProfits': 115856000000,\n",
       " 'freeCashflow': 46479876096,\n",
       " 'targetMedianPrice': 370,\n",
       " 'currentPrice': 288.5,\n",
       " 'earningsGrowth': 0.222,\n",
       " 'currentRatio': 2.247,\n",
       " 'returnOnAssets': 0.15248999,\n",
       " 'numberOfAnalystOpinions': 46,\n",
       " 'targetMeanPrice': 370.89,\n",
       " 'debtToEquity': 50.217,\n",
       " 'returnOnEquity': 0.49051,\n",
       " 'targetHighPrice': 425,\n",
       " 'totalCash': 125348003840,\n",
       " 'totalDebt': 80353001472,\n",
       " 'totalRevenue': 184902991872,\n",
       " 'totalCashPerShare': 16.72,\n",
       " 'financialCurrency': 'USD',\n",
       " 'revenuePerShare': 24.585,\n",
       " 'quickRatio': 2.05,\n",
       " 'recommendationMean': 1.7,\n",
       " 'exchange': 'NMS',\n",
       " 'shortName': 'Microsoft Corporation',\n",
       " 'longName': 'Microsoft Corporation',\n",
       " 'exchangeTimezoneName': 'America/New_York',\n",
       " 'exchangeTimezoneShortName': 'EST',\n",
       " 'isEsgPopulated': False,\n",
       " 'gmtOffSetMilliseconds': '-18000000',\n",
       " 'quoteType': 'EQUITY',\n",
       " 'symbol': 'MSFT',\n",
       " 'messageBoardId': 'finmb_21835',\n",
       " 'market': 'us_market',\n",
       " 'annualHoldingsTurnover': None,\n",
       " 'enterpriseToRevenue': 11.065,\n",
       " 'beta3Year': None,\n",
       " 'enterpriseToEbitda': 22.525,\n",
       " '52WeekChange': 0.21663225,\n",
       " 'morningStarRiskRating': None,\n",
       " 'forwardEps': 10.75,\n",
       " 'revenueQuarterlyGrowth': None,\n",
       " 'sharesOutstanding': 7496869888,\n",
       " 'fundInceptionDate': None,\n",
       " 'annualReportExpenseRatio': None,\n",
       " 'totalAssets': None,\n",
       " 'bookValue': 21.335,\n",
       " 'sharesShort': 35348757,\n",
       " 'sharesPercentSharesOut': 0.0047,\n",
       " 'fundFamily': None,\n",
       " 'lastFiscalYearEnd': 1625011200,\n",
       " 'heldPercentInstitutions': 0.72022,\n",
       " 'netIncomeToCommon': 71184998400,\n",
       " 'trailingEps': 9.389,\n",
       " 'lastDividendValue': 0.62,\n",
       " 'SandP52WeekChange': 0.085938215,\n",
       " 'priceToBook': 13.522382,\n",
       " 'heldPercentInsiders': 0.00059,\n",
       " 'nextFiscalYearEnd': 1688083200,\n",
       " 'yield': None,\n",
       " 'mostRecentQuarter': 1640908800,\n",
       " 'shortRatio': 0.76,\n",
       " 'sharesShortPreviousMonthDate': 1642118400,\n",
       " 'floatShares': 7489969311,\n",
       " 'beta': 0.910925,\n",
       " 'enterpriseValue': 2045956063232,\n",
       " 'priceHint': 2,\n",
       " 'threeYearAverageReturn': None,\n",
       " 'lastSplitDate': 1045526400,\n",
       " 'lastSplitFactor': '2:1',\n",
       " 'legalType': None,\n",
       " 'lastDividendDate': 1644969600,\n",
       " 'morningStarOverallRating': None,\n",
       " 'earningsQuarterlyGrowth': 0.214,\n",
       " 'priceToSalesTrailing12Months': 11.697199,\n",
       " 'dateShortInterest': 1644883200,\n",
       " 'pegRatio': 1.71,\n",
       " 'ytdReturn': None,\n",
       " 'forwardPE': 26.83721,\n",
       " 'lastCapGain': None,\n",
       " 'shortPercentOfFloat': 0.0047,\n",
       " 'sharesShortPriorMonth': 39031383,\n",
       " 'impliedSharesOutstanding': 0,\n",
       " 'category': None,\n",
       " 'fiveYearAverageReturn': None,\n",
       " 'previousClose': 275.85,\n",
       " 'regularMarketOpen': 283.44,\n",
       " 'twoHundredDayAverage': 299.72876,\n",
       " 'trailingAnnualDividendYield': 0.008555374,\n",
       " 'payoutRatio': 0.2449,\n",
       " 'volume24Hr': None,\n",
       " 'regularMarketDayHigh': 289.6,\n",
       " 'navPrice': None,\n",
       " 'averageDailyVolume10Day': 37335530,\n",
       " 'regularMarketPreviousClose': 275.85,\n",
       " 'fiftyDayAverage': 304.6744,\n",
       " 'trailingAnnualDividendRate': 2.36,\n",
       " 'open': 283.44,\n",
       " 'toCurrency': None,\n",
       " 'averageVolume10days': 37335530,\n",
       " 'expireDate': None,\n",
       " 'algorithm': None,\n",
       " 'dividendRate': 2.48,\n",
       " 'exDividendDate': 1644969600,\n",
       " 'circulatingSupply': None,\n",
       " 'startDate': None,\n",
       " 'regularMarketDayLow': 280.79,\n",
       " 'currency': 'USD',\n",
       " 'trailingPE': 30.727448,\n",
       " 'regularMarketVolume': 35204480,\n",
       " 'lastMarket': None,\n",
       " 'maxSupply': None,\n",
       " 'openInterest': None,\n",
       " 'marketCap': 2162846990336,\n",
       " 'volumeAllCurrencies': None,\n",
       " 'strikePrice': None,\n",
       " 'averageVolume': 37788551,\n",
       " 'dayLow': 280.79,\n",
       " 'ask': 0,\n",
       " 'askSize': 1000,\n",
       " 'volume': 35204480,\n",
       " 'fiftyTwoWeekHigh': 349.67,\n",
       " 'fromCurrency': None,\n",
       " 'fiveYearAvgDividendYield': 1.34,\n",
       " 'fiftyTwoWeekLow': 229.35,\n",
       " 'bid': 283.1,\n",
       " 'tradeable': False,\n",
       " 'dividendYield': 0.0089,\n",
       " 'bidSize': 1400,\n",
       " 'dayHigh': 289.6,\n",
       " 'regularMarketPrice': 288.5,\n",
       " 'preMarketPrice': 282.44,\n",
       " 'logo_url': 'https://logo.clearbit.com/microsoft.com',\n",
       " 'trailingPegRatio': 2.4159}"
      ]
     },
     "execution_count": 9,
     "metadata": {},
     "output_type": "execute_result"
    }
   ],
   "source": [
    "msft.info"
   ]
  },
  {
   "cell_type": "code",
   "execution_count": 12,
   "id": "3d0d87fb",
   "metadata": {},
   "outputs": [
    {
     "data": {
      "text/plain": [
       "[{'uuid': 'c3ad40f6-2c4b-380e-9509-e56a67fcb493',\n",
       "  'title': 'This Promising Tech Stock Is a Bargain Compared to Adobe, Microsoft',\n",
       "  'publisher': 'Motley Fool',\n",
       "  'link': 'https://finance.yahoo.com/m/c3ad40f6-2c4b-380e-9509-e56a67fcb493/this-promising-tech-stock-is.html',\n",
       "  'providerPublishTime': 1646915400,\n",
       "  'type': 'STORY'},\n",
       " {'uuid': '71f347a0-16f7-4acc-a34c-d4108f59721a',\n",
       "  'title': 'Amazon stock split sends shares soaring',\n",
       "  'publisher': 'Yahoo Finance',\n",
       "  'link': 'https://finance.yahoo.com/news/amazon-stock-split-sends-stock-soaring-111133430.html',\n",
       "  'providerPublishTime': 1646910693,\n",
       "  'type': 'STORY'},\n",
       " {'uuid': '992f09a9-eab2-314c-8117-255062a7d616',\n",
       "  'title': 'Japan Tech Giants Sony, Nintendo Join Growing Exodus from Russia',\n",
       "  'publisher': 'Bloomberg',\n",
       "  'link': 'https://finance.yahoo.com/news/japan-tech-giants-sony-nintendo-012723712.html',\n",
       "  'providerPublishTime': 1646875643,\n",
       "  'type': 'STORY'},\n",
       " {'uuid': '5c909549-19ab-3ced-b05e-a9b4dc91afa7',\n",
       "  'title': \"What will Mandiant's $5.4B sale to Google mean for its local operations? Here's what we know.\",\n",
       "  'publisher': 'American City Business Journals',\n",
       "  'link': 'https://finance.yahoo.com/m/5c909549-19ab-3ced-b05e-a9b4dc91afa7/what-will-mandiant%27s-%245.4b.html',\n",
       "  'providerPublishTime': 1646871735,\n",
       "  'type': 'STORY'},\n",
       " {'uuid': '6f69dd31-b70c-3093-a002-d38905c28085',\n",
       "  'title': 'Dow Jones Pops As Oil Craters; Amazon Stock Does This As FANG Bites Back; Microsoft Shines',\n",
       "  'publisher': \"Investor's Business Daily\",\n",
       "  'link': 'https://finance.yahoo.com/m/6f69dd31-b70c-3093-a002-d38905c28085/dow-jones-pops-as-oil.html',\n",
       "  'providerPublishTime': 1646861878,\n",
       "  'type': 'STORY'},\n",
       " {'uuid': '805590ba-c398-32ae-9725-9c9a81985de8',\n",
       "  'title': 'Markets end the day with stocks in the green, commodity prices down',\n",
       "  'publisher': 'Yahoo Finance Video',\n",
       "  'link': 'https://finance.yahoo.com/video/markets-end-day-stocks-green-212834878.html',\n",
       "  'providerPublishTime': 1646861314,\n",
       "  'type': 'VIDEO'},\n",
       " {'uuid': '2065d353-873a-34ea-9565-fafa38d10e99',\n",
       "  'title': 'SEC, DOJ investigating Activision investment, Elon Musk scraps SEC deal',\n",
       "  'publisher': 'Yahoo Finance Video',\n",
       "  'link': 'https://finance.yahoo.com/video/sec-doj-investigating-activision-investment-211534196.html',\n",
       "  'providerPublishTime': 1646860534,\n",
       "  'type': 'VIDEO'},\n",
       " {'uuid': '1f409874-a2cf-3b25-b1be-790c18749143',\n",
       "  'title': 'U.S. Stocks Keep Global Rally Going as Dip Buyers Shed War Fears',\n",
       "  'publisher': 'Bloomberg',\n",
       "  'link': 'https://finance.yahoo.com/news/u-stocks-keep-global-rally-211500991.html',\n",
       "  'providerPublishTime': 1646860500,\n",
       "  'type': 'STORY'}]"
      ]
     },
     "execution_count": 12,
     "metadata": {},
     "output_type": "execute_result"
    }
   ],
   "source": [
    "msft.news"
   ]
  },
  {
   "cell_type": "markdown",
   "id": "b5d1709b",
   "metadata": {},
   "source": [
    "# Second"
   ]
  },
  {
   "cell_type": "code",
   "execution_count": 14,
   "id": "06284878",
   "metadata": {},
   "outputs": [
    {
     "name": "stdout",
     "output_type": "stream",
     "text": [
      "Requirement already satisfied: requests in c:\\programdata\\anaconda3\\lib\\site-packages (2.26.0)\n",
      "Requirement already satisfied: certifi>=2017.4.17 in c:\\programdata\\anaconda3\\lib\\site-packages (from requests) (2021.10.8)\n",
      "Requirement already satisfied: idna<4,>=2.5 in c:\\programdata\\anaconda3\\lib\\site-packages (from requests) (3.2)\n",
      "Requirement already satisfied: urllib3<1.27,>=1.21.1 in c:\\programdata\\anaconda3\\lib\\site-packages (from requests) (1.26.7)\n",
      "Requirement already satisfied: charset-normalizer~=2.0.0 in c:\\programdata\\anaconda3\\lib\\site-packages (from requests) (2.0.4)\n"
     ]
    }
   ],
   "source": [
    "!pip install requests"
   ]
  },
  {
   "cell_type": "code",
   "execution_count": 25,
   "id": "9d512cab",
   "metadata": {},
   "outputs": [
    {
     "name": "stdout",
     "output_type": "stream",
     "text": [
      "{\"message\":\"Missing Authentication Token\",\"hint\":\"Sign up for API key https://www.yahoofinanceapi.com/tutorial\"}\n"
     ]
    }
   ],
   "source": [
    "import requests\n",
    "\n",
    "url = \"https://yfapi.net/v6/finance/recommendationsbysymbol \"\n",
    "\n",
    "querystring = 'AAPL'\n",
    "\n",
    "headers = {\n",
    "    'x-api-key': \"1H6SF2NOGV4bwYyo18zMK1BYqF9V8hC98tM7enU3\"\n",
    "    }\n",
    "\n",
    "response = requests.request(\"GET\", url, headers=headers, params=querystring)\n",
    "\n",
    "print(response.text)"
   ]
  },
  {
   "cell_type": "code",
   "execution_count": 26,
   "id": "47129b00",
   "metadata": {},
   "outputs": [
    {
     "name": "stdout",
     "output_type": "stream",
     "text": [
      "{\"finance\":{\"result\":[{\"symbol\":\"AAPL\",\"recommendedSymbols\":[{\"symbol\":\"AMZN\",\"score\":0.308536},{\"symbol\":\"TSLA\",\"score\":0.293067},{\"symbol\":\"FB\",\"score\":0.287255},{\"symbol\":\"GOOG\",\"score\":0.282224},{\"symbol\":\"NFLX\",\"score\":0.214399}]}],\"error\":null}}\n"
     ]
    }
   ],
   "source": [
    "\n",
    "import requests\n",
    "\n",
    "url = \"https://yfapi.net/v6/finance/recommendationsbysymbol/AAPL\"\n",
    "\n",
    "querystring = 'AAPL'\n",
    "\n",
    "headers = {\n",
    "    'x-api-key': \"1H6SF2NOGV4bwYyo18zMK1BYqF9V8hC98tM7enU3\"\n",
    "    }\n",
    "\n",
    "response = requests.request(\"GET\", url, headers=headers)\n",
    "\n",
    "print(response.text)"
   ]
  },
  {
   "cell_type": "code",
   "execution_count": null,
   "id": "34a15ca1",
   "metadata": {},
   "outputs": [],
   "source": []
  }
 ],
 "metadata": {
  "kernelspec": {
   "display_name": "Python 3 (ipykernel)",
   "language": "python",
   "name": "python3"
  },
  "language_info": {
   "codemirror_mode": {
    "name": "ipython",
    "version": 3
   },
   "file_extension": ".py",
   "mimetype": "text/x-python",
   "name": "python",
   "nbconvert_exporter": "python",
   "pygments_lexer": "ipython3",
   "version": "3.9.7"
  }
 },
 "nbformat": 4,
 "nbformat_minor": 5
}
